{
 "cells": [
  {
   "cell_type": "markdown",
   "metadata": {},
   "source": [
    "## Reverse dictionary\n",
    "\n",
    "Given the following `dict` `d` compute the reverse dictionary `rd`. Let `k_d` and `v_d` be the keys and values of `d`, respectively. The keys of `rd` `k_rd` are all the integer numbers contained in all the `v_d`. The values of `rd` are lists containing all the keys `k_d` where `k_rd` is inside the corresponding `v_d`. For example\n",
    "```python\n",
    "d  = {\"a\": [1, 2, 3], \"b\": [45, 6], \"c\": [2, 45]}\n",
    "\n",
    "rd = {1: [\"a\"], 2: [\"a\", \"c\"], 3: [\"a\"], 6: [\"b\"], 45: [\"b\", \"c\"]}\n",
    "```\n",
    "\n",
    "If you do not write the proper code, the computational time might exceed the time given for the exam! Numpy is not required.\n",
    "\n",
    "Hints: \n",
    "- comprehensions are your friend.\n",
    "- work on a small dictionay, once you are satisfied with your code, apply it to the big `d`\n",
    "- you can use the `test_exam.py` to test your implementation running `pytest test_exam.py` "
   ]
  },
  {
   "cell_type": "code",
   "execution_count": 1,
   "metadata": {},
   "outputs": [
    {
     "output_type": "stream",
     "name": "stdout",
     "text": [
      "A0 : [7, 190]\nA1 : [63, 58, 36, 189, 27]\nA2 : [23, 152, 109, 9, 8, 24, 56, 60, 130]\nA3 : [7, 144, 51, 184, 167, 180, 140, 108, 57, 115]\nA4 : [72, 2, 195, 41, 179, 109, 88, 72, 40, 56]\nA5 : [27, 24, 98, 25, 92, 89]\nA6 : [68, 12, 187, 118, 138, 32, 97, 21, 142, 76]\nA7 : [93, 148, 50, 181, 18, 12, 170, 59, 198, 75]\nA8 : [60, 26]\nA9 : [72, 117, 163, 94, 42, 95, 91]\nA10 : [172, 69, 180, 175]\n"
     ]
    }
   ],
   "source": [
    "chars = \"qwertyuiopasdfghjklzxcvbnm\"\n",
    "chars = sorted(chars.upper() + chars)\n",
    "\n",
    "keys = [c + str(n) for c in chars for n in range(100)]\n",
    "\n",
    "import random\n",
    "\n",
    "random.seed(42)\n",
    "\n",
    "d = {k: [random.randint(1, 200) for _ in range(random.randint(1, 10))] for k in keys}\n",
    "\n",
    "for i, (k, v) in enumerate(d.items()):\n",
    "    print(k, \":\", v)\n",
    "    if i == 10:\n",
    "        break"
   ]
  },
  {
   "cell_type": "code",
   "execution_count": 2,
   "metadata": {},
   "outputs": [
    {
     "output_type": "stream",
     "name": "stdout",
     "text": [
      "7.34 ms ± 356 µs per loop (mean ± std. dev. of 7 runs, 100 loops each)\n"
     ]
    }
   ],
   "source": [
    "%%timeit\n",
    "def reverse_dict(d):\n",
    "    rd = {}\n",
    "    for k,lv in d.items():\n",
    "        for v in set(lv):\n",
    "            if v in rd:\n",
    "                rd[v].append(k)\n",
    "            else:\n",
    "                rd[v] = [k]\n",
    "    return rd\n",
    "\n",
    "rd = reverse_dict(d)"
   ]
  },
  {
   "cell_type": "code",
   "execution_count": 3,
   "metadata": {},
   "outputs": [
    {
     "output_type": "stream",
     "name": "stdout",
     "text": [
      "144 ms ± 1.94 ms per loop (mean ± std. dev. of 7 runs, 10 loops each)\n"
     ]
    }
   ],
   "source": [
    "%%timeit\n",
    "def reverse_dict(d):\n",
    "    return {v:set(k for k,vv in d.items() if v in vv) for v in set(v for lv in d.values() for v in lv)}\n",
    "\n",
    "rd = reverse_dict(d)"
   ]
  },
  {
   "cell_type": "code",
   "execution_count": 4,
   "metadata": {},
   "outputs": [
    {
     "output_type": "stream",
     "name": "stdout",
     "text": [
      "8.71 ms ± 93.3 µs per loop (mean ± std. dev. of 7 runs, 100 loops each)\n"
     ]
    }
   ],
   "source": [
    "%%timeit\n",
    "def reverse_dict(d):\n",
    "    rd = {v:[] for lv in d.values() for v in lv}\n",
    "    [rd[el].append(k) for k,v in d.items() for el in set(v)]\n",
    "    return rd\n",
    "\n",
    "rd = reverse_dict(d)"
   ]
  },
  {
   "cell_type": "code",
   "execution_count": null,
   "metadata": {},
   "outputs": [],
   "source": []
  }
 ],
 "metadata": {
  "kernelspec": {
   "name": "python3",
   "display_name": "Python 3.9.1 64-bit",
   "metadata": {
    "interpreter": {
     "hash": "2edc9ac119ceecbdb6c6b466af4b3088fd02eeaf4ffec262a3bc9e10a7a73a28"
    }
   }
  },
  "language_info": {
   "codemirror_mode": {
    "name": "ipython",
    "version": 3
   },
   "file_extension": ".py",
   "mimetype": "text/x-python",
   "name": "python",
   "nbconvert_exporter": "python",
   "pygments_lexer": "ipython3",
   "version": "3.9.1-final"
  }
 },
 "nbformat": 4,
 "nbformat_minor": 4
}